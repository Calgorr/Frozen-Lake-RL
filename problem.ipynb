{
 "cells": [
  {
   "cell_type": "markdown",
   "metadata": {},
   "source": [
    "## Imports"
   ]
  },
  {
   "cell_type": "code",
   "execution_count": 168,
   "metadata": {},
   "outputs": [],
   "source": [
    "import numpy as np\n",
    "import gymnasium as gym\n",
    "from IPython.display import HTML\n",
    "from base64 import b64encode\n",
    "import imageio"
   ]
  },
  {
   "cell_type": "markdown",
   "metadata": {},
   "source": [
    "## Utils"
   ]
  },
  {
   "cell_type": "code",
   "execution_count": 169,
   "metadata": {},
   "outputs": [],
   "source": [
    "def record_video(env, policy, out_directory, fps=1, random_action=False, max_steps=100):\n",
    "    images = []  \n",
    "    done = False\n",
    "    truncated = False\n",
    "    state, info = env.reset()\n",
    "    img = env.render()\n",
    "    images.append(img)\n",
    "    total_reward = 0\n",
    "    i = 0\n",
    "    while not done and not truncated:\n",
    "        i += 1\n",
    "        if i > max_steps:\n",
    "            break\n",
    "        action = np.random.randint(4) if random_action else policy[state]\n",
    "        state, reward, done, truncated, info = env.step(action)\n",
    "        total_reward += reward\n",
    "        img = env.render()\n",
    "        images.append(img)\n",
    "        if not random_action:\n",
    "            print(f\"action: {action}, state: {state}, reward: {reward}, done: {done}, truncated: {truncated}, info: {info}\")\n",
    "    imageio.mimsave(out_directory, [np.array(img) for i, img in enumerate(images)], fps=fps)\n",
    "    return total_reward"
   ]
  },
  {
   "cell_type": "code",
   "execution_count": 170,
   "metadata": {},
   "outputs": [],
   "source": [
    "def show_video(video_path, video_width=500):\n",
    "    video_file = open(video_path, \"r+b\").read()\n",
    "    video_url = f\"data:video/mp4;base64,{b64encode(video_file).decode()}\"\n",
    "    return HTML(f\"\"\"<video width={video_width} controls><source src=\"{video_url}\"></video>\"\"\")"
   ]
  },
  {
   "cell_type": "markdown",
   "metadata": {},
   "source": [
    "## Random Walk"
   ]
  },
  {
   "cell_type": "code",
   "execution_count": 171,
   "metadata": {},
   "outputs": [
    {
     "name": "stdout",
     "output_type": "stream",
     "text": [
      "total reward: 0.0\n"
     ]
    },
    {
     "data": {
      "text/html": [
       "<video width=500 controls><source src=\"data:video/mp4;base64,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\"></video>"
      ],
      "text/plain": [
       "<IPython.core.display.HTML object>"
      ]
     },
     "execution_count": 171,
     "metadata": {},
     "output_type": "execute_result"
    }
   ],
   "source": [
    "env = gym.make(\"FrozenLake-v1\", map_name=\"4x4\", is_slippery=False, render_mode='rgb_array')\n",
    "total_reward = record_video(env, None, 'frozenlake_random.mp4', fps=3, random_action=True)\n",
    "print(f\"total reward: {total_reward}\")\n",
    "show_video('frozenlake_random.mp4', video_width=500)"
   ]
  },
  {
   "cell_type": "markdown",
   "metadata": {},
   "source": [
    "## Define FrozenLake MDP"
   ]
  },
  {
   "cell_type": "code",
   "execution_count": 172,
   "metadata": {},
   "outputs": [],
   "source": [
    "class FrozenLakeMDP:\n",
    "    def __init__(self, is_slippery):\n",
    "        self.is_slippery = is_slippery\n",
    "        self.terminal_states = np.zeros(16, dtype=int)\n",
    "        self.terminal_states[[5, 7, 11, 12, 15]] = 1\n",
    "        self.reward_fn = np.zeros(16, dtype=int)\n",
    "        self.reward_fn[15] = 1\n",
    "\n",
    "    def is_terminal(self, state):\n",
    "        return self.terminal_states[state]\n",
    "    \n",
    "    def get_reward_function(self):\n",
    "        return self.reward_fn\n",
    "\n",
    "    def next_state_det(self, state, action):\n",
    "        if action == 0:    # LEFT\n",
    "            next_state = state - 1 if state % 4 != 0 else state\n",
    "        elif action == 1:  # DOWN\n",
    "            next_state = state + 4 if state // 4 != 3 else state\n",
    "        elif action == 2:  # RIGHT\n",
    "            next_state = state + 1 if state % 4 != 3 else state\n",
    "        elif action == 3:  # UP\n",
    "            next_state = state - 4 if state // 4 != 0 else state\n",
    "        else:         # WRONG ACTION\n",
    "            next_state = state\n",
    "        return next_state\n",
    "    \n",
    "    def trans_prob(self, state, action):\n",
    "        prob = np.zeros((16,), dtype=float)\n",
    "        if not self.is_slippery:\n",
    "            prob[self.next_state_det(state, action)] = 1.0\n",
    "        else:\n",
    "            prob[self.next_state_det(state, action)] += 1/3\n",
    "            prob[self.next_state_det(state, (action+1)%4)] += 1/3\n",
    "            prob[self.next_state_det(state, (action-1)%4)] += 1/3\n",
    "        return prob\n",
    "\n",
    "    def next_state_reward(self, state, action):\n",
    "        next_state_probs = self.trans_prob(state, action)\n",
    "        next_state = np.random.choice(16, p=next_state_probs)\n",
    "        reward = self.reward_fn[next_state]\n",
    "        return next_state, reward"
   ]
  },
  {
   "cell_type": "code",
   "execution_count": 173,
   "metadata": {},
   "outputs": [],
   "source": [
    "dynamics = FrozenLakeMDP(is_slippery=False)"
   ]
  },
  {
   "cell_type": "code",
   "execution_count": 174,
   "metadata": {},
   "outputs": [
    {
     "data": {
      "text/plain": [
       "array([0, 0, 0, 0, 0, 0, 0, 0, 0, 0, 0, 0, 0, 0, 0, 1])"
      ]
     },
     "execution_count": 174,
     "metadata": {},
     "output_type": "execute_result"
    }
   ],
   "source": [
    "# reward function of the environent\n",
    "dynamics.get_reward_function()"
   ]
  },
  {
   "cell_type": "code",
   "execution_count": 175,
   "metadata": {},
   "outputs": [
    {
     "name": "stdout",
     "output_type": "stream",
     "text": [
      "0 1 1\n"
     ]
    }
   ],
   "source": [
    "# evaluating if a given state is a terminal state (= hole or goal)\n",
    "print(dynamics.is_terminal(0), dynamics.is_terminal(7), dynamics.is_terminal(15))"
   ]
  },
  {
   "cell_type": "code",
   "execution_count": 176,
   "metadata": {},
   "outputs": [
    {
     "data": {
      "text/plain": [
       "array([0., 0., 0., 0., 0., 0., 0., 0., 0., 0., 0., 0., 0., 0., 0., 1.])"
      ]
     },
     "execution_count": 176,
     "metadata": {},
     "output_type": "execute_result"
    }
   ],
   "source": [
    "# if we take action `a` in state `s`,\n",
    "# what is the probability of landing in each state?\n",
    "dynamics.trans_prob(14, 2)"
   ]
  },
  {
   "cell_type": "code",
   "execution_count": 177,
   "metadata": {},
   "outputs": [
    {
     "name": "stdout",
     "output_type": "stream",
     "text": [
      "15 1\n"
     ]
    }
   ],
   "source": [
    "# if we take action `a` in state `s`, what do we get?\n",
    "# this is done through sampling the transition probability\n",
    "next_state, reward = dynamics.next_state_reward(14, 2)\n",
    "print(next_state, reward)"
   ]
  },
  {
   "cell_type": "markdown",
   "metadata": {},
   "source": [
    "## Iterative Policy Evaluation"
   ]
  },
  {
   "cell_type": "code",
   "execution_count": 178,
   "metadata": {},
   "outputs": [],
   "source": [
    "def policy_evaluation(dynamics:FrozenLakeMDP, policy, gamma=0.9, num_iter=100):\n",
    "    \"\"\"\n",
    "    Evaluates policy based on Iterative Policy Evaluation.\n",
    " \n",
    "    Args:\n",
    "        dynamics (FrozenLakeMDP): dynamics of the environment.\n",
    "        policy (numpy.array): policy we want to evaluate.\n",
    "        gamma (float): discount factor.\n",
    "        num_iter (int): number of iterations for the loop.\n",
    " \n",
    "    Returns:\n",
    "        numpy.array: state value function.\n",
    "    \"\"\"\n",
    "    s_value_function = np.zeros(16, dtype=float)\n",
    "    for _ in range(num_iter):\n",
    "        temp_value_function = np.copy(s_value_function)\n",
    "        for state in range(16):\n",
    "            if dynamics.is_terminal(state):\n",
    "                continue\n",
    "            trans_probs = dynamics.trans_prob(state, policy[state])\n",
    "            expected_return = sum(trans_probs[next_state] * \n",
    "                                   (dynamics.get_reward_function()[next_state] + gamma * temp_value_function[next_state])\n",
    "                                    for next_state in range(16))\n",
    "            s_value_function[state] = expected_return\n",
    "\n",
    "    return s_value_function"
   ]
  },
  {
   "cell_type": "code",
   "execution_count": 179,
   "metadata": {},
   "outputs": [],
   "source": [
    "dynamics = FrozenLakeMDP(is_slippery=False)\n",
    "\n",
    "# 1. go-right policy\n",
    "policy = 2 * np.ones(16, dtype=int)\n",
    "\n",
    "# 2. shortest-path policy\n",
    "policy = np.array([1, 2, 1, 0, 1, -1, 1, -1, 2, 1, 1, -1, -1, 2, 2, -1])\n",
    "\n",
    "s_value_function = policy_evaluation(dynamics, policy)"
   ]
  },
  {
   "cell_type": "code",
   "execution_count": 180,
   "metadata": {},
   "outputs": [
    {
     "name": "stdout",
     "output_type": "stream",
     "text": [
      "[[0.59049 0.6561  0.729   0.6561 ]\n",
      " [0.6561  0.      0.81    0.     ]\n",
      " [0.729   0.81    0.9     0.     ]\n",
      " [0.      0.9     1.      0.     ]]\n"
     ]
    }
   ],
   "source": [
    "print(s_value_function.reshape(4, 4))\n"
   ]
  },
  {
   "cell_type": "markdown",
   "metadata": {},
   "source": [
    "## Policy Iteration"
   ]
  },
  {
   "cell_type": "code",
   "execution_count": 181,
   "metadata": {},
   "outputs": [],
   "source": [
    "def greedy_policy_improvement(dynamics:FrozenLakeMDP, s_value_function, gamma=0.9):\n",
    "    \"\"\"\n",
    "    Obtains a policy in a greedy manner based on current state value function.\n",
    " \n",
    "    Args:\n",
    "        dynamics (FrozenLakeMDP): dynamics of the environment.\n",
    "        s_value_function (numpy.array): state value function.\n",
    "        gamma (float): discount factor.\n",
    " \n",
    "    Returns:\n",
    "        numpy.array: the greedy policy.\n",
    "    \"\"\"\n",
    "    policy = np.zeros(16, dtype=int)\n",
    "    for state in range(16):\n",
    "        if dynamics.is_terminal(state):\n",
    "            continue\n",
    "        action_returns = []\n",
    "        for action in range(4):\n",
    "            trans_probs = dynamics.trans_prob(state, action)\n",
    "            expected_return = sum(trans_probs[next_state] * \n",
    "                                  (dynamics.get_reward_function()[next_state] + gamma * s_value_function[next_state])\n",
    "                                  for next_state in range(16))\n",
    "            action_returns.append(expected_return)\n",
    "        best_action = np.argmax(action_returns)\n",
    "        policy[state] = best_action\n",
    "    return policy\n"
   ]
  },
  {
   "cell_type": "code",
   "execution_count": 182,
   "metadata": {},
   "outputs": [],
   "source": [
    "def policy_iteration(dynamics:FrozenLakeMDP, gamma=0.9, outer_iter=100, inner_iter=100):\n",
    "    \"\"\"\n",
    "    Optimizes a policy based on Policy Iteration\n",
    " \n",
    "    Args:\n",
    "        dynamics (FrozenLakeMDP): dynamics of the environment.\n",
    "        gamma (float): discount factor.\n",
    "        outer_iter (int): number of iterations for the Policy Iteration loop.\n",
    "        inner_iter (int): number of iterations for the Policy Evaluation loop.\n",
    " \n",
    "    Returns:\n",
    "        numpy.array: the optimized policy.\n",
    "    \"\"\"\n",
    "    # Initialize a random policy\n",
    "    policy = np.random.randint(0, 4, size=16)\n",
    "\n",
    "    for _ in range(outer_iter):\n",
    "        # Policy Evaluation\n",
    "        s_value_function = policy_evaluation(dynamics, policy, gamma, inner_iter)\n",
    "\n",
    "        # Policy Improvement\n",
    "        new_policy = greedy_policy_improvement(dynamics, s_value_function, gamma)\n",
    "\n",
    "        # Check if the policy has converged (i.e., no change)\n",
    "        if np.array_equal(policy, new_policy):\n",
    "            print(\"Policy converged.\")\n",
    "            break\n",
    "\n",
    "        policy = new_policy\n",
    "\n",
    "    return policy\n",
    "\n",
    "\n"
   ]
  },
  {
   "cell_type": "code",
   "execution_count": 183,
   "metadata": {},
   "outputs": [
    {
     "name": "stdout",
     "output_type": "stream",
     "text": [
      "Policy converged.\n"
     ]
    }
   ],
   "source": [
    "# TODO: test and analyze the algorithm\n",
    "\n",
    "dynamics = FrozenLakeMDP(is_slippery=False)\n",
    "policy = policy_iteration(dynamics)"
   ]
  },
  {
   "cell_type": "code",
   "execution_count": 184,
   "metadata": {},
   "outputs": [
    {
     "name": "stdout",
     "output_type": "stream",
     "text": [
      "action: 1, state: 4, reward: 0.0, done: False, truncated: False, info: {'prob': 1.0}\n",
      "action: 1, state: 8, reward: 0.0, done: False, truncated: False, info: {'prob': 1.0}\n",
      "action: 2, state: 9, reward: 0.0, done: False, truncated: False, info: {'prob': 1.0}\n",
      "action: 1, state: 13, reward: 0.0, done: False, truncated: False, info: {'prob': 1.0}\n",
      "action: 2, state: 14, reward: 0.0, done: False, truncated: False, info: {'prob': 1.0}\n",
      "action: 2, state: 15, reward: 1.0, done: True, truncated: False, info: {'prob': 1.0}\n",
      "total reward: 1.0\n"
     ]
    },
    {
     "data": {
      "text/html": [
       "<video width=500 controls><source src=\"data:video/mp4;base64,AAAAIGZ0eXBpc29tAAACAGlzb21pc28yYXZjMW1wNDEAAAAIZnJlZQAAVWVtZGF0AAACrQYF//+p3EXpvebZSLeWLNgg2SPu73gyNjQgLSBjb3JlIDE1OSByMjk5MSAxNzcxYjU1IC0gSC4yNjQvTVBFRy00IEFWQyBjb2RlYyAtIENvcHlsZWZ0IDIwMDMtMjAxOSAtIGh0dHA6Ly93d3cudmlkZW9sYW4ub3JnL3gyNjQuaHRtbCAtIG9wdGlvbnM6IGNhYmFjPTEgcmVmPTMgZGVibG9jaz0xOjA6MCBhbmFseXNlPTB4MzoweDExMyBtZT1oZXggc3VibWU9NyBwc3k9MSBwc3lfcmQ9MS4wMDowLjAwIG1peGVkX3JlZj0xIG1lX3JhbmdlPTE2IGNocm9tYV9tZT0xIHRyZWxsaXM9MSA4eDhkY3Q9MSBjcW09MCBkZWFkem9uZT0yMSwxMSBmYXN0X3Bza2lwPTEgY2hyb21hX3FwX29mZnNldD0tMiB0aHJlYWRzPTggbG9va2FoZWFkX3RocmVhZHM9MSBzbGljZWRfdGhyZWFkcz0wIG5yPTAgZGVjaW1hdGU9MSBpbnRlcmxhY2VkPTAgYmx1cmF5X2NvbXBhdD0wIGNvbnN0cmFpbmVkX2ludHJhPTAgYmZyYW1lcz0zIGJfcHlyYW1pZD0yIGJfYWRhcHQ9MSBiX2JpYXM9MCBkaXJlY3Q9MSB3ZWlnaHRiPTEgb3Blbl9nb3A9MCB3ZWlnaHRwPTIga2V5aW50PTI1MCBrZXlpbnRfbWluPTUgc2NlbmVjdXQ9NDAgaW50cmFfcmVmcmVzaD0wIHJjX2xvb2thaGVhZD00MCByYz1jcmYgbWJ0cmVlPTEgY3JmPTIzLjAgcWNvbXA9MC42MCBxcG1pbj0wIHFwbWF4PTY5IHFwc3RlcD00IGlwX3JhdGlvPTEuNDAgYXE9MToxLjAwAIAAAEgyZYiEAE921H/oJbmPAvZaMPTN0X8nu6A4j/T8hLMNI3ZeYypmobS6VpRbhaJ9HsjG5ZBXVCvQF8kXJ4/1+Fu7N4IgpKyMkjEZ86nneYHZ3tUg3gdZD7aEPU/BeR+TQs6+nTDndss5+OeK7CgRiILyupqoDoCZsjiS7J+rAk2F9SW49VqybZcSKframlgyq6SSX9OrimLaM+rNl8AwS6z5ds4J2xoArLAcYtiQqI2DfDW78uG+DjmFBNssTLJm5OltgCggASPiJUmA4lWCF4jI9j6WIMePr7QKiFJ0l7IQpFH/07WvYqsNqf91vU4WT+76j43UkGwT4kEvkO8CColDy2S4S+5q1/ymyPBLKjgmUIdZCoTPBv3yiiP3eEeCDOsP/NP6PvMH2mWKDkynL8ALc6S2fbXFQA5pvYV1utaN63zrSFlKPddYeLCsT93HO38/Uffgniugc8LozJzjGOSbP+w7z6CAM2XnFbiequL9ZCKWxtFL98HP/lvmfkLOd/OLW6YO7SEa8GJ2vS7SDzS2xo1Nlf/MG9CYDPQECoPKSI8rQvyVuwRFBpzOSlFifrf3j875kgw30lOr6zaDEdF7NwWhrGsiJ7CkxYghFNxhWiMylmyR11lt3ohGa6K94XEQ11JP0ClEovTNO+X4KQ6MxYCPr0NDIH47O4PXoo+B1+lMddb9KZiLoi5zjYlClaJPx0sKisryTkw9wYsmED+fIoQRfod84/3mK9ROtMRS/DlOmcfBNYH7ea29P4y+Tuaq1HtmXIxTkUqJ56SS9+My082M1w1qBVOrJnu73S6fDiNSAP9I8AbVbaJV60afhxPohSuvvyZPa3nXPVGqy9SoKdq17Ug5DNU3KvEcjW6gOslU5UJzmQxGrV8mOZBsGmi2PHWLJ6WYgb06D4QaU6C4AlN1+Y6m2OX/VEvIal4QMkre1jK5Ag+MdxSV8+g5k8iFtf+2XIvUggTwWv63A4lMikTQumPVD56Zn177R606bfRqfnUUZ+Tw0YINk4JKQ/ZljJyrRGKDoUTUKbUBlg1fhHo8YFPUL42rWIbR3Y7lU2O9EkyIIk/Nm0Ts6XUzjhIlOn8dpbPQwcR4xaVPVphlsur0u6cdNQWrizrF3a9VnS3Ed9WONNXajxwGc2spUxNYI+2MglRcWDfDL2DLezuLVrTZou4EHZlAJT/6dSFYsKB/gHD8OZc1hWHL2xenpgcD5ZjwlQ9v1ANzRXRvk1ChiGTkZNJqJ++Q6n3EdT47HuwMmp9IB8tTwVnf2mIzKnnb8RnUad7WvX8B7WHtpdw0h9/L+kh9QhhaoASNKLYMRP/PDEXBHk/luqzxGczs0mzWfqSHRwEBeV5FI9oSZRi2VdfCdbuDJ5dp1qsxaP1U4FSLBW7cEtzDCdCKD9iI2T7Q0daOUwn+Ris79syI0r/fmQcMMtpuQPNvhU1W+7VyNi1c81pbKVnWzUdClnXZqH2KccTeEoGDUYc7zkOMrVbx25U7Tl7layZV0IaquNpQWJ9MbftuIC7p9mYMCwHf2eC5pSN0Mbw5OCk016BkaLdI2VDRI1LxZZ09H5iJvqNmDHpCveM9cdsd9e78kfTEfqxzFXlcmUAyd/XG7G7YL1kdYTIXVHYHxGRYJ2Lt0sRmcmGEZaK4lj4t4bhKOxjr0s+tMJFSAreDooZi0TKu4+vV7+L5zlITheO+8i9p6MDTUBMe9y0JDNdqBiXyRPMQS+ICLRZtQarKpIPFXI7PkqVzBOchmLYfxtV3V99y27JGb7oj+P9L95usbY+dpPYiDFcpsyRPSHKWPQfBwlGPXZ/CmedyCkJXxhnij/d/tal1kwD8jDarJR7liI16HDWvoKstCEUKFm30fIII3w7g4Mv1zDEMqJReRXc2veo5LDNMXqSsOgwFdc1BUI+yyKhCIgOsgRtox3FjCAj6pDUnKB3OfB4beyS68vgXIGotUfbrJY6Wfl6TDbogYvOmm0oaYHngvnbr8/2efF7ZXTz7Rx8xW/3i/jzZElVvtEBaxqnFCVlcdVmtbu6elMKC/+8GZa2U13BxipaW3JlYEKTA/xwb7wsJkhMPOyMTwypcjAKMS3YSsKQuE5Fk2izQRMB5QaAEwwWP1KUpcBYBY9WGNpK2cww6mndGyyd/yCR6GxtUO2eyfvlLfnJpMFKpKOURyH+Dzdex8iTN56eEo2VnaLmGsfzZcE7HG+hEzt0hD8wbf//z9j7OzZZcEGh5kmAFYDtOZQkUxpaNdRo+kFP6Z0n7ZhQt/g8eNglrNyPyFko5ytlLdgUao581E5TWFxekNKcpS6czOAbD+AjkiBVbAb9KHYpegJ4GsH8GEsVxRYQenHz2CvWgLoGcBSZLIJUlaVb1uyetiBAPax/0lqZWq2EKmXi8O8mH00pz4NMHTRtFWtXaM6NeAnkAE8nhgnmWeJUWyrWUa26x6Rrvy9aD2sPAwjjgEz0zO5d9dBdtk5cJGga7ogy2TPT/Uzu9S2qtlC840lGXyhUuUYC7HkBHh0oWwegNjqMQaFitIPn2lEC0Q8TKpvZSOVueovBTJd9j4Yq7vamoBMk11mjsdEGEXpzTJiisyFVtQskI9D125qtwuGXUPSzkC0n5ADCezX1WTJ2t2FIvBpHmSII/BMG8jQsmga2P+5KRLW3GozPkaFm+F77RDCmlsYqyCcGM3fliRCMbQGEFXBY4HmRMCZ3SNBdGJYh0dkXrcHhA/ocY88tGZUFFcIpEuxwtnKDvWsq7BSPBH134nOYnJF+P1EtAMpPm+j6RMiQyXvPvP/AbfKQFHIkriJZuajM/HeR/wLff7/QRMaGlRS2yEY8OlNBZdxw0WVJhpvfbdlZgZ/GZYZ5UUUTvJDRA0qwjH0Wsm8Ja17mNHIcRaD3f7sf6hOPi7v1QRAUH+eqx0o4j6rfFvogGDtxXp4ozUkU0tnHG1cnsL8JNr6aBkph2eOA7NEsXTUlN0CRDqM58SWgWwy+i3Vybiyj8zY0qcwnzqHynUPuDk/SnL+H+KcDMXNAxG5fwRcMYFxfuOf+BFB+qdzqmjL4RqgzpWqx6FjC93dxLbT45DKMM1zvozE8milDrnK4yLpWmnL0v7GEpiLGcplL8cTmtXTwS/9f6GmyQEGkTGQudV9GZ2GHfz66ap6a11HM9Xheyz9Gc/Mb4FpbWpMu5bQpi6FoTizaAItREmKpG9jIyJ9M8T3qHskgevzwmtNCCHAMBl7cLD1Okr55+Yl7O0MVltoCWbFX2HMwi37p9SmoXDfb30jdON6ogXLzmig6PJyN7Qm2LTgqniHmYWQp5TnoufcbXWiZ82m1nX1AqWnc+o+Vbxvxgfl4n/C/xOZW57UFns4v0QD9r70gQpo06hKYqJ0g8//8cF4uZJdGCqmj6sRu8xce4m+I7aNZFM/ghwnoCz7zB9LzLTRpC+iRP7qfY4T8Kebp9SvnbSLxN12KLfPMUTEXsHw+MnfHRQfMkUKd+7wXHLdtngR2o4Dkxk0M8dQD9sRzZ4Ka2MLGu0+C8Fa9VlIhuPOomBDl9Sa85TOJNRTBB7hb3VKM3rtGQgS66Tp8hMzmomygoTD+Tdi+qlx0TYclYTiK2NiQG3NTdatv5XZMB5k8n+ge9v288Z8upQw9nHIKej4gvACw79jSJEif5S7JjfTn9b+fFWdl47JNzKxSHWpNKelLh+/3SD9lzHcWkPTx02zReA5PAdf+k56/HlN/BUzNDZGamyUsgR3x26c3Xz1249KJSBMgBV25oH7AnuwY/YfnT7h5QzzjgkxexOIRr5froG5TMkLHj7LR84ZQ3sfOeerJZ7q6Dd/L2zrJAKqnrjxtQ4urRUSfN9S1ULYW7ExlD1NXOrUW/vjQ66sLEYu1LlNzCNcOXGmhwCyEDqtaeiB5vsLs9TCANdqbxFacejaHUZfcnYhCTE7b5PB7jjGkMWv/XO4Z8mH5upHgyTjCpcukdHxVH/9rpjd9AJTBCJbQNVl0IWC/ubcZgmRwfXVlCo5CNspfv3wOEzoGt5sWgMATNp1zb5toUpXPVUiYopH1C9b33mESJ0rF75/L77kxBHU37nkMaqSg3Z+skJXvpovXmSNWHx2IQL7foIrV0lUtMNEcI+631JFoZmu5gUMSf2omuHGuUvXvNrS5KVUoWnrULGqcKjP2HIH1N3NlfY9+B24/nMbrYHKk/tsdAOs3b6KkrMV0swoUnIH0950wAgCrlQxHRh5a5sfi5B++rQ7Rh1JtSG0Z3oPAUQmp172b7t5rQKTsdc6rHabne6FS+MzsGUyj8ztKJ9eYioV9kau0qBj75/6+TtimndI0dihl76VYun32MQnFVopxmIRln3r5ATdj/lQH/La+Ab8WlTKIEAhfQEkOqNEr4OrhZbzWNDaHk1xMhNibHooaW9emt041EJQe79v7EUTZvaQg61++63F6LbP/75SoD0k7j5ZLjtyBQOPLkyo0wsOjoo+EHNQZLQasz7A9ODiCxK1aGfsLShq778btR+ZJUOyWUC2XtT4Fue7zJtUGCeQwArGD9v7g+JsaXaP8eFdw12IC185wWpyN+2qeanubkT/seMjtjVDhKxamGrhj0GIahaKPv9594Ewe/sQopim2VQG6OJrVs01Xe24B3FHvx3thumUJD8hEh2LmhSxBeIpi77g4hcesz/WJPrEdOQ7r+7n9LrO4k3c0/N5d2x43YC0OSdyKp4CtiHnHQkKpDLlCPsqbcDV9rpaQ+1ppYPQ6+PVBW9kpQttP/mkntaDMYAAYLlrLm7rEHGFohDpB3V74rVCqz8RDkHe+U9il9FHxtLzai1IWSsmfyZsAGDdKzGMfCrr9/l/JOCsCPmk0Eaz4XL57/jyWQIF7W82IqEXCAWewGfWy/hxATTe3Mg662SUwG6ZtMG+0X5stcbFgPjbG513+7O9gbWMS5j2ZNMj1XrrEvnnuLiYSPTMMdGkrvVmPz3yxhwmyjL+r4j4MGP+T7kwaDd624U5yA51UwYj8TXyWnJqSrSdRlaZVpxDVl1SvSEnYX/NehzelRD+uuvJvnxtx+SG3md4lvZ37gj6DBGq29jmFMXBS0l9mfaZ/dE9gl2VdqxP+pKwawuUdx4ybLJW/Vw5Iyreaq5M2oxelQYgpMrBTYRylzJXdFAiG201N8TUbdMl/JX1WHujcmQm4oCgm7Z7jgIZNWS6fVYYBEMrl7Ikn0mYMFTh6CjMqj092gj0w0teGr+onry4ZdlPKAupkQl3+66RmnOdOW1GszthL2VAmLi0nf160iG5gTjvTlx19cd+i1aGtzdnMuT4F1c2Is9Bs5X++iQ54qtSzl7Ea1KMR27F7X5t7HtnOLZIjlMOtmNA8Ls3KEWxp4VIfnlI8k/Ks9tsqZq1knDWfO7oUyiyT/TFkEzxqOG1WkuNN+yFR15RB67Hr24wZCw+NXCrwTiXEqPw6Q0yT56dIb5bVuH8fxd6lKl0WybLgUTvY8QAPbdJoYXMTEBtbrxxILB5U5QnwVYQbRMDsTMSjTCjIelqkc26vsp22oO4NqscHw9b3QhWBmRGFZ3sOISCaDMtIKrvLT3tY2I/5fdXcAHqj1mkiXeW51i6ukKtq90mJ5bhWRtF1tsmiDK8+OvUo6jyu3zrJllg93ji01iHMmJSreQ5n46tnLyZv/10oCokBwYyjh5PDDrLjMTj6e3LxFsU5YSwMkt5GSbS+FgcRbtHyCHTRTO6WIseyBk64j2YNIR/vSsG++N8+CQvEin4Tndxiecbtd3ptrgjaN7IZS8z0OoVMdUCmfCUgxKb5bSl3cYqyRmlV6dFdK99xPWIy5pkJuQlOHwH7d7eU3v+CoR91VTLeRCEZF5ST8NmvUdo7Ur/57FBCt97EDy6jjmVAVwD256eP5jfNTrMWhQHWTqPc++xa19otBOq5eL55PiWGOZJVDQMYGWK15czmP27iJdnsZBItwy1TV3rShYkJWRomhZp9Z7DuK3BZO2gDbXtf/rRG9GdWIVbfhBMcVom+K3/V0V4Li/pSOW+C9EJw8FHCmtpqLJClhQkshw7pNkwFTCVxDJV1SZesUW71eA0MuHgyJVh+/4FaHIUxrfB4/5HfoKRH/ZdvGNfH6YoGQpU8bJFJ88wu/+PD5uyuC1DmlqbIX5CusCCTSqX4pRaN8rqJSTGr1OHKXSXgeuLW8TzhUyOiarwaI8kI5DeUZu8v3mgJtgDpIDYIcqxFaDIPJyKNa6hQW7iIluusPlLvbdNdRKaV0VSEcbhSO93EjgHOAr4W3NB032ElBNHEVrTjncjuXs5iWC34/jIPr4I+Mme5KoNfWxbXmqzd/UmBZR1hQDAQBbxjEuu5p5yeVboDIo765O7No6ZJax4pjAJpx1XEf0wkS59ltUT5WSvDeiwc9ywYdkJ49mLhdea6t5EIj8FP1L6BBxwVaaLaZ6KgbX+/qI4H9+wcQNNG9w5cOlQdmSaRnJDezAndb6MeG12HFpf+gaiOmJmirIW4X27yBmzIQEsTNg3OX3Klm1f62a/cc8FghSKs8xpSvMNUS2nqriLQwH59kLk/GlO+DEnV6P/ldSVYjkPco+XuxsolCAFXs64ATh4yR57MWQPnII9lsyEN8EqdPJjxLaW6Ax7MFCULwEmFxtxvNBiGDCVw0aDKY2iVKRDXYlYEOhjzwh493DJKEcMZ8pqONPc2uQpumnLfL2P6IGmIChWy62iSf8FlnUGq7GpjDs3w4e+aGCz+6+4xXno4rmcxT6J3wxb6GBqhQTVSUoxZD8N5c3Sz6Bnng0sVPbJKx1ZPcO//+PgIPnd5LniF2KAT8+038bcw1Q7f7oMYbnDN4jReehdv/RihBxQLjwKagBzYQD/3ySN8+5yuX+xeQ+rg1H79rALoF4xFgKHNiHQsJe7UxsAZNf8CIX8+oD0boAPmh9XElypajeHxXSwGerWCy+NRyde2pahe/quE+K5E+MKAs7W3GMahwHoS2ArnIYSPra50SDpyK6TRotPn1wxDPVpHKIrkG0E0JlOQMCRfsRNB7FFKj4V/0ip9JriyHfWUIQlKCpaW6mHPHMUrY+CIdqv3l7mqpxYPdPNfwhVK/2ldqOOQ6l41JEtDQiQnb4hGuE+cKTjQmgYFPgNI5HF22BIpe/cq3DfnXkhJw21KPYJkK33Ib6A6JWym04plZmWEa6Bl9y5+1PM2Y0vCm+3xn6hpbAfUOhJfopHL20Qb3zLscj9kjKFXH+K9rL4sJpclenePFzYidDuNhAw2HWlrvsnG/5Xa5jrcOsMJjIbNzJDhrmk+FBTSjAman2gm3m0NFtdC5wdiAjuiyIhXpwv9fpNdKX/rKB7y4DVQWEtufmRGUBiAOEl48TgCTguBB37YA1JufVvYaVO2UtIq2jZ3XsNyOPkRL0fil9Cyyh7GAFAmk2q7qOtvZTuNWVoRmIHZ6aUMVOrYswhUDTdgB6K+6ErwihatVgKKaSdV3ZJU3bRZEyKKpDBJ2R3bjBggjZJJsEZLKFjia2rbZIL/lkm+rBsBSt+iD8XVKTlPYhLBoktiGdboVW3/01qtfmBdyFkxtCUwJCllBY2Hvu4A7ALqlD0gEDinNhLvS6uwAkGZPZJb6EbO2aktVqQ4qRGmdY3ACj2WYCh34w749pM/zQsuveLB98W9CQJ3a/4I0XIievSU3B97aAcAvP2bAw2EFbY++bf0mzqAZ14qYoxS4gRVb7r66JbaetBPC3rpDjql6gYeh7eMUbIxflB2VNoKyYDR37snEnnu7WMdQz3axXzSMFlIosIl+tSHTgFnh3mQqulOwPswV7+gKU23XlFzl9uMnzi126kVSt8triQ9enI++kAszMw+Xv6FgqUfJBWWNq4gWpBTOTv5QAx0LABaaw9/J9s1TBxH0pLFQOtXMnSsVoOb9uLOj2l8nBnxCyNzrYNmSqbWaykD0Ml8Z8x4P9IaAb42ZhkuF7zQj00EsRs7zbK7loHHGRKQm8DCbyfgKja/QKwP2zF/kMPm5Z2bhrC/T27tvHboxzwqpv/W7gE54U6JZgW4N/JuCOKDchGHZW8/lLoZ8LWEQQzyJVt2gXXleurYAmEGnH1icmsZXCa773FRGsRuAM+Zha+hd76JPBQEi/4whQFnwHYx/SNNp8ypoOHQPQbH0Vz+zCVBmDriOal0OU7+Nb66ZQTVGDxvhLwClnWlFPtorGKE83BORalmRGJIrUE5R+JEdTjj3cAjPJ0xMOc1ERKUSQNxcoOFs4MrNzhED4gshrpnEEL/ffwdU/87ebUVR6iCkp+5JhFBwbsyZYfhIBqAQAf6UNM6ZHcIZ1+JicJMXu7bLoEhyqGRwLqGyi+lCY3zXgFzyTD4RruuDQtwkBps93TzABrnEzIUBf4GxAJL3N9XicbRbSlHpzsbE2wJPrkIB+2fK15I/qoh+0RQomWkHmOmS4SuVTpxGQ50kJYQWPHWleRxwUxzPQGDMqOqnsd/7FmFkv6tzHr3Gi9ZEdgcPEoOMPdKxo7FXqrzjyRH07CSBXo0k8vt2+I/3XHyD3DimNXgbtUKHy08Gkft5AxXzl4y9YWuQ12+WG193jsX0hXoS6c8JLcpFAWCU3mSf2x1uC/3R5ocZo5PI8JWNZIkDv6jFekOZM6CIe8m4isX6dQJXjAgsxS9Yyq36JxLaSBWQfKYxrxqZ2KohpxD1++9DI5ZbcVV5hrRU6CePNhkCsz+ANRoTl0xOk2n8FxbgIBfOkdZLHMPu0iYsQAzT3k5UBAUWqkrePdxMGfYxyb5hi7Vs6lOLSD8wI9wQbd4VNvAzkcXoAiXGYfIYQAkLanlM0JsCjESsWDTdLyACGnR9h1oIiz3RdJBX2OlCrdHkOw0+GH7BzyvK/z1hz/uOGElg12WKTTvc/IyUPtjslkjM5fsO2e7NLrkFby22uUiBXsBmigpfX1XBDNJfkjU1t/dGmzS5lsWfZNzeS2bsyXn2dswcricR1rgxEFLi8MRl8V/g8QVEAooDzEipYLTYRkEzdTN8K1IpmgtU281puWBRvyYWZ8heYeh5rWWGFH62Jbls/c7yH8k/jdc6eLyMi/2mAAyfySScAAV2/OeFRG3ekVaw36Um+47T3BIbQSVe2Vo2+anKiU3l5gUjmLEjHHEMepn5R5nQ3qZKxXo26s5APVFDLPcIAEf2AFyaXLCfkCXweYo+CtH/rbRBwb9/oJCGg7zqPbUybtf+ww5cFAJx4iv9ohPAwYY/EtpMg+Xj4Zet1SvMbJCvlVNHA7Q3mSqvo+cOl/UYLVLpXwIw4FS4PktiV1lxeDllapgLuZsvYBck2lFkzWev4YnIxRYqUWFsy5PalRIdIe+ByQkbUBHPrp0UR/dCDgQchCrMdLiVhtxbubneKgWGUSpeH0NR4IiPdlh5YAQ3qzRNsTnGYb5oFNRfVKrp80ckEeH+LfIuOgBvOq5tIrw7imaNdY4ykVQHQUWijZU0iT3V9d8aj3TsgAPWOdqABeoAYR41QMKHTrT8+HMz6YAbPhHhCxaAahsz1EEGoTPEzuvkavRaIayEEj4KD0oAm8Yq3wj98rzdaFLgMZujoiYy4hWSms97uXTJUCQ2OXmxfRxO5lutHjP+pIkGl+JGFB2AtzHOtWBX4acfOKoE+U8w9OykNqTdOPNmmlPWr9NDccFgm83gCQlRnPnx9z9GEv5k9RcgxLyWnf/T7d/QPLAfMab5kv6CfTZVpeAAvcJzfLaVABRvQHdrFsLfhmElYmdFRLHsovPrktlssecl2K9dtHt+ZX5Xr9Ggr2/5ZmGnF5IFCnYs9k3BPHYJI4foNc1Pe/0NGKI29n5VoPKyRrjRLjN0xhQcopqi089eTV+qZXLcSM1+GKulJDm2gif1svZIpZ6W4JWiFwGmu3nM3aTOBqAwbVzM5l+THwzNjObSzq45Bo/y1I8CZkcsVSicygDAZCet5nMKk12dW+6Q/3fxFILQTFRi2kzu5Aj1xnrWckKU53Ca11jgpOysx3GiaBInsqB7SVy+0NTBEGm0UXPu393WB8ON7Pe40GAJZMAnqG34QMqwPkzMHXZ1C26wvYGio6hCrdd0PFM6YY3PJqUPCv/KP8g9Ria9Mb6Ky/yDViW1E7i3yxmr4ESAcDA3f9DzGGcJPugiaoMmDDYEr6U8o3I9jELppIwCbqe+GDNUzQwZjRhLCcU32AWYD/GNEVR0lg0/u4nYE0SSQ2q5r2zXtI2UBueQ852Jpb8pHCBgzUFjpcSsNuLd0BqhuGjmdIaNiKVFbr939IxeLciIi8OEHGQ/zYL4DKJVarlDNxJBIMqSUeLtxE4aCrrrZu356J5rQ88sju+SiTsWqPSdVcz1ZuDzD9JHjAB0b7kRTAOOGDznVL6N2Rv4/cytDi0B6aobM3nxYoEWnRhuIOv18kBSuVQGy86s3+jIOkqIqXTzJ2P6EC7V594c1APFqou0Lb3TLTPa6ZKcqXORs/AV2/UN0OrigokzTbS+q+0CR0V5Mju6oiVX71cX4mf/2BnW9qelXNNLYuVBOi21jIIrRQ/5Ug47nMYf1lQ/pr0LVPFQY92cIJcksL4VS665oRPpgrMRdk/2YRy/7JLFBL1mtaW+HEkCq+b2uGsU0mNbFBkSz4ScndcWdRMbzIfPQHKGJ7eCY0rqaYOOVjZuvWm3H16f+Y6hym+uxdHWUtjVkp/vLXOpgt2OWEK9hNNxTuYkRk194kmwRSO5tAh4MzZgJFeOGOxj8z4RSnPLOqDX6gOgIRLb8oK/y8/ItsNsODYrp6GuBwpe6ryzYrk7UYr6I0D+dKYf7yhRCxKucjy9E9EtwQyS1xCiNlG9sQpQ/nN99W9CX5CsmSJDeP2GhUkmVIsC0jX3oC/otAk+XDiC3UFHGq6yZPmUJqb5Vr4edzoAuiJNrGhYCSbsIZB0SBvQ+q6ZqL6DpuDFrezR5sMXc+bq7eEgPiDuUFvqR7+ZQpYpdO1fzVJdksPC9TP1x5F41LaLpGE7h1djqGznmHsf24Gw8E46jkRgW4g4eyAm47S5novwwMyxgDohFiifCc8l+6s/LrqcCLCdDUM3pUm4qDZ0MC3IUnXfKLiYlUT/tEwaVdXevAb32NeOiRDtCUkDZBZ16gnV2uYjPVef/m+JLEbae/8A0M1ujwZZfvcCbGq0unAmR5g4LLi9Bj9e6AY0nwYNam1hnsF54yRrfNOnnVMlxvVAD1eIU0TfuLodHbz+hes6q5wL1M1Mj/9V3EixLnIdBOu3mcCGfIUIIAUhlJAi7vnE69ID+Pm/jy7q91rUzzxr7Fflp7BiLPDnzaIzg4oSRBF71wAT/MSgJm6lWlru83ROHFgkMaRLZNsY8MXFWy1SVP+dD+N2KpkUSASdI9AhnkkNsWcWxrNOp5BfLWc/9fLocCq8UGI2Ucral+xfCkQpDp+VwqctfjqQ4wpMC9C7Ls0cacXoSosdyhY4F66za4t0zCx2iH3ISttzVZxFbkYDmJnR52aBEEvoQR/OdT0HgIFi1PkC67YbNF9PfnibKQR7evZKR+tPNhz3AVbUlfmJRrF42OMe9jKXM2f96nVT4Di/KukFqoheyfPEBM8e+UcR90vQe3Z+lGIMAcAvQ1tgNdRoNcX9VGTN7H3KrhkjuJVb0XAy4YKJQFDR9PMbsfhnb9d0bsoPRDSj5BMJLWiHpX/q9GZn7ZVqm/K8nGlDvnG8NGL1A9TGtE8CilK7iLeBvHb72G7JHKIB4cUvpUZxTmAuIkdEq6i3KcM8CbRkE1N9gpcGz7JUaYOfhyyHFoyuNGm86Nh6yxKhf90+xvzDHH+wLoP9NqA5ZzMhBOPN6+nfBGhaGm7IDSuWo97BWJN+z9nXOAX4BGvaMpWZFxVmdHDnC7AfLemOgIWPvs35KnsjB4L8rIuXBotK3om2OXFT1iLncN41lTEA+FUiTcPxPSQfFvMflQpxU/yKkebO8IF2BgtiQweEpvadZsArkZva38RU9wRos69UTZCDUiLbBI5nnwd+h6Wf5/Vc1uj10XCworsd/9jLRwEkQtRTDhvlHORoRj8DTHqo6kKjA4EFpLQ+sKBawR9WOp/VACDKleSNssJmvoFwcoAh1z5C2+UmJDwxMEPWi1hHNXEYrMw7Y3EIA3v25Ci81Zr5eTiY+QCGC9XRseZkif1YpiM4kpBdB/0FRdwI30zmqgffwBpmTkRQNTLpYBv4MCRECRnpw+BIwB5H6DE42M+dD+u62en3Wj8QOegQzySE7i7i/iFYdujAwAQiJUc92PAlpHPnwFepWj3qQ5PYaDDBnyVWihhhgSn2JFAYFIlZWN0MfCITrPqu7nYD66oLl7guFgT9JYXMSKtnMMTYhgkMKaRiXBCMrWF/Tk120pYulgUINXLwzdGgDNNWsEdjR//x8sf0N451ZToRov1hwnRT4XnDN9pljINggNjNqxXzOPZ6y9sXpqRs7HxvqcT3/6DgkYb2CZCSax6fMejmFGHrXSkfXMqn9O4fViywpV0lh7D0zDmA/UzHJXcPQ5A+8lHGEyYQkm6gRF0JF2FBHkKnljlNHOWS0scArgly+L6ZuYyOYAIqu2Rupmsac4RmNcvU3Dve4SDB1ZPmn13dXN5sh0BN2JWi6uwVbjPYSAqAB46msKTjyW9ODh3ebf/KFREel4BYRD7OLRuDItSHPWz/k362Dp73Vz7EfyQW3MZLlI5Au6Va+JXbDJmI1FCrAiXIby0v2TQqRlywyScaSrPNtf0fQJFHHoE02wM7zw/0B7Th3YPANz7qSRSBtxnl61JnOQVfbo0hCuTzwia9Y3q5rewEkCZZWTFqd5DWSeklvYVmg4Nm/GeWHXL3DShXdl2k40DuBPeIZGmlJgpkCNACzLLuOmOpmf7ktzwdBccEXXTIEuipR/fVHHdKhJfiFaGLKUpQePlJvQDaSd6trjmvPfc60dP5Qjs3OxY43WITd+RKGNm6AUsTzEIUdR244qizIy1bHEq2UngvjAfh+gP/zvv/Brvs1MxbStVU7eqKHQioeX23/+pNVxlWB2JyvNqBmK6X2Ls/jA58qw6+Wvk+0XrWNIeNYYdG6i3kcoD1QfLf8CcSX86OUEVTAN/09sdIcfAz62zwiykOgQEaXeHlcImWVkxtP4dfYUujkYMK91Wynznb4QAVzP7YygTCnn3kTmpueGbuE1OJ2yg+MvB675vv/trsFyVLxmMvXmL1MqYxrGHFrqNA5V1ZrrLWC5EQsY3ZSt8EIN7SqbihgsVwkWcWYNhPIiXWGe/3qr7fsWwbwbe+RqQ0yPXIkIslKb95ho6Ahfm7ol0giNCZBfUX4Vp8gxkhUtF3SuuuoEr/OAxx7/FDl8+K8srjy9my4ZS1FANzPRUIfRXht86972IM54SBWQByclxTIEfebDhZEznQPS7ovPPGJPwSokHmj2BysiKsDGvzBsLI5O4nayN32IIOQ2kw3PPwq83ZBWrK0kLXb4B3JTLtmu/3ZYP4xR/+cV41yr8uLnfk7QBPjjF+UKm+uRepx/pN3Cx/+WYsEFekP8tlPHndtOnNtrVE6n9NDi5HwDXBhhe9gVwNEJM4UvHpRxGMEfogKvIBXcvc1dQotCYEanxkExe0dqpv425hmjVFwQMt7XPgjLsDcusLenilJjNEcDTp4SIAtWgp7pqjNGvfJg06H9DrMKhfxwIWDK7M9qDyNICxCWjg0EUhmLbfVSAqL9qRe8cwKFeGNhQbaJWuZ4lwIT6K33XLxaiUUloleVCj5pm8b9CH5/cEmkNg49r4+67bAcPXMyM+AY9nMdGCx/f8upinrz59pAS0ylBpD+PjKh/r6Z/BZfp/JjSI6iQcSixVE69Cq8fhTRnebmde7fUNvHE4foQ2jYbppxwD7wt+9vcccURAfAYDXPie7d2Ymcw3/hE+KhswmZB3E58/b8uQYjUDzEl99xLfzE/3xiZrcOaplMOIaaQObsyQzfw3ij0EsIsdRxn4oIUTY6w5aeZnavgBFG1VOdaTS9UJAhFnDTOO6+ifCso87fgEkpfxapVHXdVdG0EO9LsRQ5iEBFJs7purLQhVSMC+nEoxOq+eqssnRV6w72TtK4FRhqAy+Mo6KNT6ncryXonAkR1ap2jz9AtoufC8/IN8rWz1J7oKPuom8j3GMEz4Y8DbLu/xlREpKBADqsgVwDWuNDFVRGuI0MXbR+5Z2zPYO/W2UxTC118fBgFKcvOGTl+h/66Ypas6JOPIMRVvZ4ghOuMhHX+cbZb7wEVcvwQ8uqcNNLto4XKzK2880tRQStk8rXex7/1XxaIia/uFyMbXiSSgXzz9Ags5k89RAvheLjq+nkncWYExm2k5LNu63SF1pjrBp3aL02TKwXNXoZNEEj4XvujOKJ1nl97cFSeGFthOHW/Ok9h4FgepfrmoDH0nzycMrXnGOiHnvAyY+89MCK95Q3e4Nc8WgSqejUDgWZGJq6ctYOQdHEfDut2jcMWvht7aaTLAiMHCxf6N9pYkI3amAMUXEimuTcrDzljglmjHZnkAOrTAsYXtU2FYRB4w7qCdK1ScBcMJeLLDO0ONEqf0cQHJ6hRqms0GncpbuS0vY4oMAZAZGqmIw4vVFJSrpLkScXV4PuFzXU04zJcJ/YoaHqgloXWz3Z+c1M7/V08Bb8/sLJBuBsGOqTFbtZyd4XjxtrM8+kYKubfG/eFTw3Cm+WMTfh08oKuYQmxfq5+WS9kmDbNsLQTMoModC1Q2fXPmJ1NkoEMQxsmRnr2Glrjk/Z8qffJcq/bm62omM7vMSaq4W5Fp+JNIUCuxpgg3zKBbO0bBWettOBpQClQ9oWbucuywoyMhuk0E3bz8cO+nb0yE5R0j1VbfONVV+sjfVBJJRjyGPvhTdpheaT8hD8AJDi13NvDzFJ9KfWDCHyvOwQlYWIGGw6yxsVPq3AAIIWqYJjqyL488zNJbi3sIuhJrl+Nw7rdIsFEXN7ZRGJIJRqA1ezoM6li83hacOxXoFON6WNW6Wa1FifZdBjb/vFsZ00xjVmbkXCnD7gFf9Ko8uudJKGM49FwdOmSwu8k5dIkU3PevLV27Q7Ck3aZvCprUX1vpPsoqg1u5aJN5kRrcAnGRyE8zVpODBUJjeIn1fNWkWJh4y55QvYp/aJwUQ4GET6e5kqooPH4JTFWONpbhTaQRRil3u3Cflbzr/A8NfS/KYxcEXPfVGU4hTFOQLC5ZbcTGTEYWjMKs2ajpCnzZYsnxsJoSRzJwSZdq7gKjncDvFSzhuP6qwsAg2m+hgedY99m9PDg+Rs+xjtyk35UaaU3sNVz4/PJUwwt0hG80auT/Mdait/kBgbaQfB/Xu8Bdn9cZuA8fbgXxL0JbK3i7XczqGbowSjC5GcuKBqMbnVWe9+B37i1oURahSwJOEetRGPO+Ls9POHydSo2JPu2/2TboqI9sQWDNoE6uzXMWD8/iKeyJA67R8HhdMfD4knhc9JKFxeOIuEzU2T+jDpC2/T/QR/WrotFL4d4H4KbJNiBhvcvVkJJSospQCNqbjQ5ER1G9m296gWTlDlk5nPIjv9SATkEgysIgcBiUyg45krg6/y1Nmhps+fmJ3QFZzFeMI1kGhTeHRDZ5GPoVHl3e4Sn7AkbCJAuiJjyZZ/1gZ8n0EErATCdddjvwo18PAGbSOo3AUNOp1pIPUnG1PXc5i/dQyn+9J5MLNiszhxxjjBqiVjZHZTp5rhp7Vck1dtAYgKBPavf1ZZX7UO5+qgJ6i6YDfKHYnUEAHDjLEdNJVLUpxhsGhFIMpG35hIEZC6fdD0EwnmPwu/yUK9f81y1j574iWFNVm+nfClux+y9Cw07DCjMVF3ATagMbX69tAtPN41ibe9dpmHrwe3EpNjXpytjQUoRowHv4NRJJ+8VN+4QOHiXfrFO7fllXM03iXB1sTDvjRBavg9MBv6pe+8Ku7/yK+jebLvcTr7kTmnRcX39H73g8AsgeICOWctcuxIJPW9n+SxEWibM2FTLZvLeYFT7qWIpJ3fCOw4CaJoSVHfo7vboseyCJAPwSQhw98hdvrYXc0QbY9K+lwq1L25G7YEH2AU20RjK7NbS5fOluO/oUs6zOGITAJ7s7Q8fDAKLoNsk9AdnEDaZ194MI+OuGK0AuEFW1TXOls912GyyjW0GcmBOfsJ5ilXtCUO9crFPXsvENWZx63hFra/oY8QQgDEbyKqlVR9XavZz7jawn6ByT+8TFabrF+/OJ/ekpdO356ZrW/jb4f8QZygnPDXHPZjYGGh+PP/vagcCpAoiVSPWK24XlPQVIyUAHHxbszfOcwFJWs7CgRmL92KEg9hnyz5oi37IqiHJyP/V/O51HCooPXS8jIpJb4UZko9Ju/IrNOk7HjWOE0yLE3XAOa7V1KIdbErwXVS2VYVgU5kQlRoZxca/tZcBObqENVj+IiFhWkOa7u2goZyybVoDPn9nsLayfEm58uxJMvXB8IMFS7my7FsqDyzkC23enclFPrf1IenEfaZBtQEeAdBACR/dEmhSYqWTuN0xJYe70wadGgPZxfZgH4JeNpT/IIH21h+HriI4QY7aCFYRFQ2OSr+VM/HJBBcjp/tQZRjT8Q6bR+u9GmmjWX2hWGTxLquWVNN3Dze6KcPPXPunWAASuV1ULhiQAxsis5P1csf2tVhm3UyAeh2Kg0PcIRe/Yic+Kn/Fr2BakzJKpkP1Az+QdG2N8X754h9F2RL1vKXVA2zBxsE7fTT24EZdkdUsi8V6s0M0/lr+eJcwDi77DBpfd5ONRWXSYrzaJvOJGj7dVpaoajNhPvWm0TW+l60lhdbToohLbw4QAznOFO2rtZrdtWk/Txyuzt1S5ZjolJ6TSlPqNRJG94j/iPnZJuOdanuU97g0kW+GoF53bYCxA2BKE8vgdpKbTQzfKO6BVD5vXqTxEGpNlspr8OdUFexVII/y2Yzi0c1f1izhIOqggD+6dRWKMh/vUyUb4suGa8djdbH++uSV6JZRqPYJK/ndP8Vkb7BWe/pQhfgR7AtgcHzxXtoO7ZAoCES3Ex9d2wb2w1rYI3rwjSj/N1t4Yc1pEghyVX41ADXi+JdTzEZGIVEYv+Z85XMwcT3VoX3Rpf4wQcrfZoocP2lQpNJedRVsC7KN8tQ9pkSdP8A4I+pINH8Ah8ptAo1g0ECI7igiRaeMjRJrfNFHzZn7geluWdH7C0bthfsTpd8Jd52Uvav5FlqqnpNDBgnIU/jyHYQQctTSvC+Hr7eLfrGHHfwCSnfdIgoDfyr8OYpRB6Ia1h+6ZNj2ZD7gKtqQcauviYjOZLub464Wy/71Qey06w9XdmQ29g2/YdVtsZ97XRl3T7cqTN7byq3/ymXukrg8yz3ERRCJScquGb6sBu03L8q+OaI1Lwt4zaNZPVZ7gkdkNEShA3oY7kTRdI/en5YOyLBaacWRjtJ1HlHpKyA2mT5NkDRjHbEsKNZ0EjLfPlB9aE2Dk7l9jg5kgaUrWxf3uAuwSZn0nJ1jgi0YzCtp3SBYvwy9pVGnZPuQCsaJWL6BVfKyOWhppQ6KTwdM0ykVKIRDbg/7Qaa6JDwXw8xd9CHEkvhAUYQpL1pf1H7DCni5l+Add2XMzWvo8Q23rs1XP8aIHvw8hUwO/Fx97Tj/dX8IkzjE/PsigISipMBfEyVBqlpPnRQv8Hri7wZCcq1yaSfYRO5uoeELvQ5frC1zTu4KyzrbRxy2gKC8Dnv13taEWb9r7nBMzM8DjKu2kUHohqCUxvb/Mnq7ncTJ0Orgs6EQ87UTtNJJckE/IpLQJ4N3FC+kekaqXvtMxVtcFuG+zXbQpdz3/HQBAFp8wd0jU/0rH+eARwzhe4XJdEWaihOLQefKcJeamxGQJ66Rm+AdWkR6CcMPcS5+oPKLvqieeTeD7MM4cy/zvzfFriMA4xTZV3d8Q+81ruHOUtv9SoIcz7oYbMbivmMVcxwzmWfq7vvRTq/8uwLwCnuXALDGeQepAmmvHKyYZJJ4SYCJLiHjupfqlfJOkWgrKCuTgy8GjiNP09G1Tu9RU5QSIEqGMhBwLCpUEYLbozVlvhv77Jv493qygZ7R3YkwHTWnUBVl/XjgCKBjE5fAbZEaMFf7jG7Sy6xFjQxBB5YrlytS5bJbxMMYz8GHnSAf+sl8mZ6v2XS3TE2AhRHbrg8aaBvdUatQjZVHyW8MnhaTYJgoWUtIEA8uqbRVs3ElEkgGWRfqW5tDeJBVFaQHzXiVDKO6zxm8Gcrflp5jTCVJynppU3EwJTejdeiJYN7NG1CoMum60E6Aksp1V+XxhjMhyTY53D/2D50P38r1E3zkAm792v6eSPOU0ybbd2QzsMSXlMu+KwMMbXLdUNMwPimL6MAV7FlFpVp9QzDcV28v3I34OgavOaeYX1QCa4fgXvztyQfbLGDat5LmAbLtBSjce6OMZtZuFRs3SClkdmg8Od1NlNXxjNKlL8Prm9i37R1lrqiBPVXXs6972IWxOLorQgiKlJjfMwxH/d2PO2V+ohGUM3tMuOsuCYk6W/4/K9U1N6FDuY1n+OOCMo4dlJrW1x6LpeetUatERONlcJeFJNPcQXXKeux8MoZ9RgTtoHyCyhl4Jgq6CdddPynkSHrFWLVVqR/5gyDgI4SZvmugJ9wydKR6K393rDbWScEPqbefGv2QHYrzze3l7gqtlwZFeOFGcDxJdxUN//DXpGelJ8Zfj7NbDvJkQa7UdP5STChcwAPZMGxdzSaXOwzDC7m8o2M3Bteo/pghh6MFnG4+qLFLYCSWJFP1J0xynSBeo6d4/Z5gEdrJw1b67DX1SPv4D4aJ58eMEMYe7Az2OabMhHEqJASKGbLHpapR+7qNzIdLE6s6dhKEYjfldVP4Z/y7wzGXG3YzJV9PSM+Vu2JukQXq8fYcjoGQwnZuRKsRB9ncnAP9SxTrn/pByLOux6hZe7AUKVeJlUYmcQl4BQZijzmD+d5fmnaGe2eojrdCq/40SQXEmSuLdUrnwNTImLxBpH3eIb3Eo+m7cr9Fe9lwhLy2VqVwaphrzflaI/PnQCvGLKUrIZ/c8SzFmf1DHuoKADW11AnzJBSZFfzFiwj17OuTs0EoT3t9QqTiaOpoxEzJ+ny8hjombKayjIML4kn+d+FKhH4rzakgQIU1muRCVz9CqAQkaGtQg/QYF3JsfWqvyl7TE5nxLjPtmkA4LiU7yFFaxpDxLGaFxFJ2yD/c6FZkPhR3qG4myuGzRoPKBw381yHv44s8o1iSF86Ro1nd4uBLoLqPAlI+5q5UkPgJid7m/KzHj9DjXOiR38UNtHFK0G2PZ7EC7ChXeyCoCU4jhH7tMvj2Q5gl3pI7ya4/u7+hUnjlFw0U8RjmsM92Bts61DNX9AqtFJqikyQuyabb9zYpm8bQA53Z2gUjQ7povNnpz8GZ4T7X0tCaZlSD2bkm8uA7DBEbNwd2/LYczzFZPV8LjzCMqWEm4QwAj5WhL/c4bE4JrXw4a9qW+PL3GYOQuk10PU9qsf/PBY50x4jrwIv393FxfZrTetSwPOP8HvlHjS2YI43vMHg9i7MPNA2qxyLFXByjaS7Z9gzIRX47UzvbyuETtpwQBtKNxDoHhY5UhbjkuF3MsiGtnkrwVwuKRF1O9m0Z6GhQQa/qVBQYzxu5/2yYTxIKK3yRpyYWCzMgJd5dbMLA/R/Bu/783RafQ+ZBHR8+VNLs31pvzknHIztUTN0PXB9zBnXmhvtlRCQzrJM6390QwVo7KKn3gY0cHeoA9FASAV1eJ1pUvaR/IKfnDDJ08WiM+Bs5iV4q131VGgYSZ2CyW3r/L3hSOhY6GhQBget9htHxaslP1kqIfXdtstoeNQbf/pBxTcik/2uts6YF8B0B7N3kP/8FKgbcHSpUn4K6H4wOVrHqTDFfIFfKkfKUoedUDR951838L1K+3dkT51ZcHXomW1hgf6HKk5zBx9gitws7ENYSrhu6s4qODXh+6sBGHO5+QWJxlvzzGtKqxTiQKx9Kn+zMCidia7XBzlhZ06wAGPV2ZEKBr/3OFY0zc+147z83+pvJkN548TyZExd1T4R0E1faqXg00yIfkVnHCSSyn1lEgzt6lrmjy2eBlMU5lWqRLh4hYwLrSgnoUGF5R1E7YLnluoQ7JrJT2ooXb6OAV+CC2TmYQx602kF0McKOOkFMvp9KeGchvzDPhbe6X18X0c/+2oVHmfhfAqgzESFYmYEOlj86reZmE8V5MaB3dKudWHwjwukRPmW04cG4GjOOSYA5H0JjC8TgQhFZ6IT0lJgXDylodwM+pwD+i/hjntwOe+5IlzHAH645idQTIeNa+PJBhsL1ogB0VOyHkWPJhI8qwgx/f9hOrXijW4rb6GXwU0bAH/+ZdD2TDipe6KU46qrc1DtcItpKQnCcNlkgXHItgxnliH7XuV19e0Sb1iBxSzOoF9sB6jYFL+Vbiz+rvM8j7ohksj+6aWqmno0yYE9fvAavQeVNZ8yLS2YImkC1Mt8TP33MXLKHM0j7laB+army7CQ5xQAs70iKbnp2vcEmoW2VIt+Bl+KgNqLSZpM5GVn5ACGojXajo+YtHeBYfdnKbtHvyQN+B25blbSexGYpUj3RTmb5fEtAAmSULaJ0kw6uLQA7f6dl0ro3pNwQa494bgY9S7jo6uWQXJgJi3ZKE2eUruCzucMOXb4ZY1F/zXfRi/QbtI93oNP/GXrQ/xXiDh9hFUO4uym0kr+3Wu93MUUW1HngiIwKcb43y6iUnyjhQ0Djo85iyclxOm3sIpu3j0tgqZoTjREd+aNv9L/ChCxcH6yheNI9Qviz2comEQNbIH9J8+b4cfdTlWkboxQ7tOmyFiB7Gkv2UhlLuJVgAsgC308CygCU+tUcN8uqj4EhpFW5d/iUBsMW/oMOy+jDAGxhCnLM4rYWdI1VW9XBxRZdEsSg20C5bvbWVO/9wNoyujD/CslTgvB9HKYkOHi8tfv8+FH0eSpQXsfmxBeWZVjkhcMRa6LsGA63GgDKGmcQ5xvO1QxjaiVKav1LyrtV3WsbEl4aFmFOk9xx4wT8T00HMm0bQwLVHhEuwCPBTkjGntDCu+QrxFd+8Hm1QVGwhdh8BS0Xwj+dAvIwHqpNGtlbQ4WvyvdbgDRDYHBASKmG5eLnS9o/yBz0KS0pUmzKDhU4ECNlhgl4ljG8yM19O2pOKDdEZnogt+uWPOGUa6VUkJzdGCBFZkIineCDeCa/vQCXG6Nv/vXLSvOesDUBehT3icXoZParCLFImadQRWni980hxoT7ZhUOg1C/qgDOWZsdxnVa/clkSDevOozSIXHMm0kl3XZGlTmVzUUtVJiEKGe+1U0jvd1rKH7peZKI+if64+mSaBlt2986Df3qlfQy0AcctwSqAmjIP9/0zWYUK7TFXw4eYZ1/aHBKPTjdZ0NS7ErAHMVQIz+KPheNcrWTpKkXzVmVLc+KxQRL3LLXgMZJ7sA4EPfZf3UcOizmL1nzU7sWEaNv/YSHAguwdnkLlc5cDNCpgEh5U+52LXnN5sc7JqHoK6a2Yj4kREwXO0jG5LlmaQ70ro1FCT1aF8rdERfIyJLRX7Ys7otD/f5IUFfih8U4v3CPK1elYTHcyupDMiA+t06i7IIWJlODlC6ZJzADKYdCjKz6zl/EwYq8NUI2nSezIwDLQ6K6CXVFHmuw5HGbH8gLMuqa8moOtQEBp9aHSo5ZYCFYzNYLbt+Pj99tame78qMBP6yEqBSgOmKfFaqH0c7KFBgpJXyKZyawJRUdV12Zj65TudXkp3U5loWtwwBQzfKSJIEq3qowaNH9MNTppMPmNWeA/k7Af3WhU5CvAm6G9kokyZSII+5mUPoqd0N00VmwJiDkyZ4ZuUPGVrEGiilvCqs6okaYs1v4uXopIn7gWEZgguu9wDBUkFjx9DW3ddtBfLWLaDBnKE864LPF10LZXZo5OkQjYBp3lkSH+kinQJFs603wUpK7W5nP9VeA3r9kI28228rC2h+kwkLtbX+wYsFHpVGGGuJrDeFHHxLBWqs2uHrNBknoXoB4C7E5zHMEDnV2BZYYhdCiakMWzYnbqaweOmDnhDh8p07bfgu32GDS/WBZAqXmzsnJ6+EaPzMNuK6dPMPTtMrDd2ORVEWjvhyTGLV2nJyJsLIFwaTcuCQzrX/UWTiAZX1Ug9kSoU70R62P3RrxicL2SzzDDCNMvZMikHCg76pWhocFfKwJmpkldjs+PIzaGAjdYBFtBcEJs2vviEU++u6l9h2yBsarHkUSsc3kqrShg9MJHwurZ6myKfFyq/bJNddRt+T6NkdjwNszTuB/Iz4yF0PpuCCcsy/+xA1WUnzAxdyf8HPf+xq//MOndufkDxG63E545ZjMiE0cuKR97CoToKuK+Ddfhzdo0KeVNZzOF3QqPLu9wmwTGIRiKeznNqelVwGSL5KgAqca9LjeKRm4vyoZhoeeLOSy0sikxVnzKGvRSiMf6nbSz/o0htnqiVuOe3F7OGxkLPHIdC968GO55ry/p4sq/NIHEpHkSBazNA7fQG6nqLpjveYz5z5RX+0gzyRYhFrcSTl6IQfS77ANoHa89We0s+TsJk43EGzUhefDXKme07GPyDHyzZx5rKJPn5aG9HtdylMKMxOepGzaiVe1sK6cYkdk0wo88azil6/uoIgpbX/uOS8D9mEWDyUFPiw4Nydtgpd0di5AItVH1fc8kk+P84Pk0tGvyuL71XimsH4RdgdzEqhvO8y2pKv5g4+CVRrRQR5ce0k4A2uS90r7Hk3O6tWdQ+f6c+8t6TJzVjcBc277RUj0YjASk2vKno3yTVggcrc4suGevOUBloQS08F8TVVzGxu3MnS594Z9oieJnHxs5mBRNTyHncrIMRuuH+XGAM8okZUlDi6BWxyrdKLHh7xh9p1Anvc0t7bncOBUgscmljdHDdS3yTzom1NcD0NPk9wo30Scq5NspmDLzMavQFxvV6l7/BAdVGr8jswO2+2QjngME6Adipk6xNj1h00MZsNCNYyaawwHmLiC26ZNw4GKIGNI22i/Rk9LuKChrHjz/Ul4PwkaQjYMkPeuxC+aFFKJ4HArs1DT12sb0sILj69UI1kBBi0G5KrS8j1+RjlGMPiE+FOGibKZM6AYRiAlqwbuMpoEbae7jYFaloOCLozBLgFkRRC7dtffBSZUBcM9IFkmiVlH2Rq54vfnKXa7X5ISwe7VWvxX2GSOMAYFP8ChNNm3pJAf7XiqMOsGvwD5UC0Fz04L2q5kh48Xe3OoQFMJZbqnntkRoUz834V9zGqM4C1/8nIIxi12E+O5JNiUXusOqEwSxGVgNSw9Qofp7cC3PMXtz2eU45ZMsMxleJTCB/CNgGAInQb8zNTHee+43jmaid499LsrrHCh3JYAp319m0//YP1kVTeaR/GSJJhhDRT0GDedEE4WQTYPp39yQPWCDgU4AgUHv73li5gcY3NaflorAAzRBZW926jF2IQQ7FNcpmcdDz7NO8C6a3RzC3V/GrZTg3ef5B5UP8rHHQOCpILEcUS8dBpRhwQA4Hz52+qmhWGWbIRr4epz7YN7IgOlLolzPxUQGczMhxoxci2EeXWAOaUPTYCHFNNeWN5Do7cRF3cuymDTfS7xH6ixZc6kbzVDtyNjvR0J8zeO866cvjc5dfF+QMg1sZMxPxvL9tXPQDCrOiPOAUQt3GKiYIAoh6S0HGfpSRRfPvj4nYeRioI3CS6AK2QjJishHeFt69MRn9zJ3oBKF2G+2VC3YZoWrxghML3s/B1P2yVvrIfmEmvCKmh8b34b1CqzeneTzX9BE3sqDOBR1v1dRzlg9B6rOJSRxcPAOak30Ce6mTXzD6cVmsQDdxlF5+5/Jwj4LfZ8w6m/9RKK66BAaWFZ7X6wEfpIsjC86BFoavWEqIT4NKIzjBUzvMrDcyjS06yf1JFOzIurT2J23SXOJWLFHLaN+3X9T0saqRTQ9wvYAOuwIX2tEz35AH/hKsEyYzP+VPYNnkh/KZ6Q96CtfLxhL+ZJtTQqOocyXbS8izxEmQXVaFG1UHf11yURcmu5OoivdGoLkb2oxYSohRv8obkopHF8VG9nq0w27htBh7Jn9IHoApbLHL2fCx8yybIsMb6SUtxOFfjnaRLgW9gS/8dmgyKhYcXPkgiZfBHg3/f0Z58Kf1Wi3IjGEBp33550nOlTeCUfcUY85vgpRwqPnpbszIfH7QT4h9FYBcOKE8v93IQCVb/ocrHcVFkhJoAgJEgAbF/Ea+FyjBbmzFaYaZ9jaaL2FPkcrGvHWsnwLJBpp22sCIpqZ0c0G8eT8oNct6jR6ou1zIuPYepaLfwWzYDStQxH8dxpOspQnjEBgfUC306n+Ddg4mbKIY9GUC2cmRsu5iwZHVHP9+J89FVFrq2HLWzqXMtHfoaIXXjvBOgQgwSQRdk47YAnjmjGPn0WuPspFLaS8Zc8G7yIdLnlm+bNQpP/L58Smqy71vjtzS2c0gSVx/Lk3sl0AQT9iuGPqzn0V2s9DjkGoQE4/YGecTJi1F6QUi6SxMu0L+rsdW/H5qlD1SzAHQzBv78M1Uw1/H3Gr6n5+qI4bHN/HJo/2JXsz+6Wi19xAt8CYJsnrzauq1g8SKeVKgoMyEFHmlFWIB6GYSm9U7HZurbr6Dbn1oTaizVSr6LsmZLb/vFSt/Hc5EILP2uGqgGqYSm+mcDXqmGhE2I9j9HXSZ9DpaeIwFr0AAAK8QZokbEv/xCi3TpnsySFwmzj2g40nXwBHNo23NKkGDrUmPy+wBpLrZ5pYoTnp3EZ5hds8mpB1OI0DFe1/LJ+LVMsRsBWKWVgWo632Lv2diVjAGZzptQMgCmmiRtbScdfsvH1lsRY69fk029qjGZ+LtErKwrzG/2FsNKE9C0VYL3HitLMULJXz0/RTnTu3DXJ7vZKMi0ZUJjJcdhO5F0LcOTe5+tpSy6RbgpbKTIv1YUU/fzw5zhN5koEIN7iwiDtgYTXgr6czPD+n87laXbfthPQRqSms6aEXMZn7ozzLNxgbR4vB6x/l84XAGFT5+EIYZxjDmUOJg6xMPr9oWAv9N26Xf2N/3RnZnPvR1FHwF5gHgHCA0k1w7Fxz49gKLQ8yNVqPFqM9qkpX3JB06E/EpCkiKTPyMCSeJJoEnjlF6iMeI1JszC6Ae0XfJ7BqUbXkoqRhjq/wHWvqt0nDhBDuhQCtR0Jpfu8YzZUVNs7f829K66A6uKXKo1xmoccwBilyfioD2su24/YrXZiiuw0AUBzOWwWSO1RrTqDmfPVhjPicBFlnkh+iVlnVT2lmg120iUIbJWMwc4wgmdlz7EgaaRqDOAVrm3+2KGfV9aYT8uw9CtAVtfrk1CY7qoH6JhBxCwmnA887XIq+zqLOjEDa0FKK+FTLETecUPz6negRnLOwv9oVdK/EnF8US6to1ivLzMk0Sjz+dxcK/xBm9X3RdHuzjmG8AwvjM//JDC0HASYZn/FlWiXFkKtysnrXdk+7L2MezeQ6osWM4IIJAN61mhZfyoaQK9GBa0xbV/aDIpkK1paS29xBj/XDm1fYpIfM2K+u46gN5hZf+TSSwjvj3UkRYpkh+ReNqQKniq7njMRIttkwP+7IuBHCDA7Pn1TNlzgNJ7C6p25dNxRV8JnCJMkTkoNgKn+9Yq+daAAAAalBnkJ4v8PIpY1nWRBbmgSNJrMiRf8suu9PGgpWczvyXNucjW0tFQs6T0dHkPLsqaStctkAUW694Wd5S+V078XfMrYFLKeXFsJc5HFOdyDk7QrKhbnLiSHTX06ADnbVLDV+OdK0Fgf6tqLZxV5B8BjlN7F4io9SIjvb0TC3Xz+NBd/EZm9KH4GDnJep9cA0qf2rPPZHF5mtci1CeR9ZdmwvocagazGEVWmdM6ekoOdi81QR/nQUrcPLA8oAAWOLNrNn+YDWzjeLrImwh9L4ZdDBlU81DOtILxlmRWIQe5HMawN1XBYKiAFE+3ElWfKZkHKFymSSUidKsm0y2p4JAaO/ClwgG1+E6AEyl+JLgKGvSUJOUzdm/Pml2rWDKMGyWh2aIukCgjZxvqNjaSxyWy2Tzagqj1rjk58P7pRvIDVGUvdweAkExSF6UnQVMSGk7AeeAdtC49W3QBeaaGNl1a5VPWn0cHiVREFFTfFIzuRGQ0RcuIF59AyDiq+JjVXBwLW+WbeZoQZf+xD9Gs4xWQlgHBVxOmbnsaKsJ8LfNpMu8W0C+LJikbhSuQAAAZsBnmF0V8gFqJynr5cTBIMsX/LLO1wYgP8xobPJc25yNbTUu8d9FCVE33xONEkSfUx7GGQYeB0cJsNHITuTty7A3GMKZ7RGYpmFG90Crhh2scIvlPbeCKIuLfIfKrbU957TU3pBDjIrFlvAJzW/9LqkbRhCktbx5ifYAY009jKw2Ddv5uGRbUe2DVeQtcTmDdsQJcaHln4W/5bxjkiKYMh2F5bGkPLZ1LUT/DGVzdcICjGA81INlPNP9rwYwnzuqtaw7iDudAAwDMP7ylpMzFtNkEtpiPy+AYl4EsVwMPR0ruqZggVq5PMbHQknVE80UAB6AflLkhtN2rxIOaQBfdZtj943jCKMS9TctidhD1EQQpWuFd8RQ5tW+q2SIVhB0cDVgSom5pgS6s9yXfk6AAErQVG/9ixgt+1c8PKM8j4uoHB9a4vXlnuxTLa6c2KoxAAYkdYrwCSMnc7ecfr6DP/J6Z8zngDFtRMk2WGgF5IBoGNK7niycjQ6CCPHiKpI5gp+zRIv0EbvDN202KItJjVlJTElvaF8SguHm0AAAAFuAZ5jalcCRAumsOECkhfwoESIUujdcDUs/ccUR0HqxKLD/ukxi+Fq3Ki940OW40Tdh+8nwCPt0s7Smd2FEP8MADpDUbqNO5zKio7hOCT/xRL0lasNcLA9kXph48Q5KbKj3edYfwORj6jgl53ncNpwLVBYy3Ji4QWoG0iwXe4dbTYe1eBizF+xZ7T/dOiP5EjJDYmN7bjFREst1GYMC/WPwStvcvAdMdWq446NjmbgHI9oyYB+DU3JG7C2uhVeji3EOZ20Ez1Gu6W8SpSFekCnl7deD30raH8BIFG+zZtFn6/XUEOwyxogatdeJJi4N/rrYLBDYrZJ9txJcB9lLWstG86AjldVEKKA6uWTgUA7YL2waEmFK3AWZEwJXZQ4M2xACimVosVWFra41Qghyi3u3EiXrMWTDACvMwq8aWdTfI9rQBXREOObeBXo1Aje0Xyze6mX8nC2zQldt/L7DAk59ZpbWA8vfU1rroGlHdxhAAABi0GaZkmoQWiZTBT1/wAAI2b5LC6NHL+LnndI+IwZ0i2qJeE8NhdZM350oJw6gFvULh62xyLwtDMNecYI1iVQqFECSi63cGP4N4a80fAYsMCey3PyJGnVwWnPQQWwm+sAxI3alyd49KnbwSGLfgVVoEfRNKyE5HvEHuXptfa+J6xqG4GCdpp4V2Yn3RNVE5NzP5GOPz6d/RaWUptfJlOhAUQEdb84x7WxcJcfrGkRGiS/8izh1J63TN//umWrI9Imw930GLXYHuQO9us3MDf6CWLT0qTkLsWqAyAZ+Gs2k1YppqFx2tFk9ZN1g75kLprXcqBlDco9wppgu4GFqfIFfRh00kljcoSDwQMBj3qax5n5YU5P3poQVudF4it/4Ub9FedJy29iuMSeuMt6U0GnuFGlv4M/ag/pPY/QNTBQFXC6OVZuejceIrQRBAB0ZWFMsRGQKPpXRQSxS6JDl1OxH2eYjO6KAAZ49ggoxWq1vwohoWlC808FVl1bo4yqNz0/ZtAW8rImRpgHFTzhAAABZQGehWpXAGXmrnLj90kL+FAiRCl0brgaln7jiiOhLWTGRR42/dJjF8MjvlRe8aHLcaJuw/eT4BH26WdpTO7CiH+GAB0hqN1Gnc5lRUdj/BQe4H3WPYVqGFgeyL0w8eIclNlR7vOsP4HIx9Poa87zuG04FqgsZbkxcILUDaRYLvcOtpsPavAxZi/Ys9p/unRH8iRkhsTG9txioiWW3LLMAg+DgdrRdhzBKtNWq446NjmbgHI9oyYCQpsGBshVLoPxbGnCIcWzSXsjpgqWd8eJjP3aRzBxtKhqgfsQ1l+NPNkxW+AYtttvg7BvRWBmAlg3+jnR7Lg6enGuZJ0Z/ZYb0S66xoUrmIUc+1gyaPuiIIH2rmZtkwOQUeD3iEE22G0TsytFjzW98tIkseDLGKdKJesxEitDkfsbGLmMucAWTFS8/WizCbd6uV+I+AixrS1hbz41jqViXhsz+syMUxgcwze2kWRQSwAAA2Ztb292AAAAbG12aGQAAAAAAAAAAAAAAAAAAAPoAAAFeAABAAABAAAAAAAAAAAAAAAAAQAAAAAAAAAAAAAAAAAAAAEAAAAAAAAAAAAAAAAAAEAAAAAAAAAAAAAAAAAAAAAAAAAAAAAAAAAAAAAAAAACAAACkHRyYWsAAABcdGtoZAAAAAMAAAAAAAAAAAAAAAEAAAAAAAAFeAAAAAAAAAAAAAAAAAAAAAAAAQAAAAAAAAAAAAAAAAAAAAEAAAAAAAAAAAAAAAAAAEAAAAABAAAAAQAAAAAAACRlZHRzAAAAHGVsc3QAAAAAAAAAAQAABXgAABAAAAEAAAAAAghtZGlhAAAAIG1kaGQAAAAAAAAAAAAAAAAAACgAAAA4AFXEAAAAAAAtaGRscgAAAAAAAAAAdmlkZQAAAAAAAAAAAAAAAFZpZGVvSGFuZGxlcgAAAAGzbWluZgAAABR2bWhkAAAAAQAAAAAAAAAAAAAAJGRpbmYAAAAcZHJlZgAAAAAAAAABAAAADHVybCAAAAABAAABc3N0YmwAAACXc3RzZAAAAAAAAAABAAAAh2F2YzEAAAAAAAAAAQAAAAAAAAAAAAAAAAAAAAABAAEAAEgAAABIAAAAAAAAAAEAAAAAAAAAAAAAAAAAAAAAAAAAAAAAAAAAAAAAAAAAAAAY//8AAAAxYXZjQwFkAAz/4QAYZ2QADKzZQQCGhAAAAwAEAAADACg8UKZYAQAGaOvjyyLAAAAAGHN0dHMAAAAAAAAAAQAAAAcAAAgAAAAAFHN0c3MAAAAAAAAAAQAAAAEAAABIY3R0cwAAAAAAAAAHAAAAAQAAEAAAAAABAAAoAAAAAAEAABAAAAAAAQAAAAAAAAABAAAIAAAAAAEAABgAAAAAAQAACAAAAAAcc3RzYwAAAAAAAAABAAAAAQAAAAcAAAABAAAAMHN0c3oAAAAAAAAAAAAAAAcAAErnAAACwAAAAa0AAAGfAAABcgAAAY8AAAFpAAAAFHN0Y28AAAAAAAAAAQAAADAAAABidWR0YQAAAFptZXRhAAAAAAAAACFoZGxyAAAAAAAAAABtZGlyYXBwbAAAAAAAAAAAAAAAAC1pbHN0AAAAJal0b28AAAAdZGF0YQAAAAEAAAAATGF2ZjU4LjI5LjEwMA==\"></video>"
      ],
      "text/plain": [
       "<IPython.core.display.HTML object>"
      ]
     },
     "execution_count": 184,
     "metadata": {},
     "output_type": "execute_result"
    }
   ],
   "source": [
    "# TODO: test the policy on the environment\n",
    "\n",
    "env = gym.make(\"FrozenLake-v1\", map_name=\"4x4\", is_slippery=False, render_mode='rgb_array')\n",
    "total_reward = record_video(env, policy, 'frozenlake_random.mp4', fps=5, random_action=False)\n",
    "print(f\"total reward: {total_reward}\")\n",
    "show_video('frozenlake_random.mp4', video_width=500)"
   ]
  },
  {
   "cell_type": "markdown",
   "metadata": {},
   "source": [
    "## Q-Learning"
   ]
  },
  {
   "cell_type": "code",
   "execution_count": 185,
   "metadata": {},
   "outputs": [],
   "source": [
    "class QAgent:  # The Q-Learning RL agent\n",
    "\n",
    "    def __init__(self, num_states, num_actions, epsilon, alpha, gamma=0.9, eps_end=0.01, eps_decay=3e-6):\n",
    "\n",
    "        self.num_states = num_states    # number of possible states\n",
    "        self.num_actions = num_actions  # number of possible actions\n",
    "        self.gamma = gamma              # discount factor\n",
    "        self.epsilon = epsilon          # initial exploration probability\n",
    "        self.alpha = alpha              # step size\n",
    "        self.eps_decay = eps_decay      # linear decay rate of epsilon\n",
    "        self.eps_end = eps_end          # minimum value for epsilon\n",
    "        self.q_table = np.zeros((num_states, num_actions), dtype=float)\n",
    "\n",
    "    def choose_action(self, state):\n",
    "        \"\"\"\n",
    "        chooses an action in an epsilon-greedy manner.\n",
    "    \n",
    "        Args:\n",
    "            state (int): current state of the agent.\n",
    "    \n",
    "        Returns:\n",
    "            int: the chosen action\n",
    "        \"\"\"\n",
    "        \n",
    "        # TODO: implement epsilon-greedy action selection\n",
    "\n",
    "        action = 0\n",
    "        return action\n",
    "\n",
    "    def learn(self, state, action, reward, next_state):\n",
    "        \"\"\"\n",
    "        updates the q-table based on a single interaction with the environment.\n",
    "    \n",
    "        Args:\n",
    "            state (int): state of the agent.\n",
    "            action (int): action chosen by the agent.\n",
    "            reward (int): reward obtained by the agent.\n",
    "            next_state (int): next state of the agent.\n",
    "        \"\"\"\n",
    "\n",
    "        # TODO: implement Q-table update\n",
    "\n",
    "        # epsilon decay\n",
    "        self.epsilon = self.epsilon - self.eps_decay if self.epsilon > self.eps_end else self.eps_end"
   ]
  },
  {
   "cell_type": "code",
   "execution_count": 186,
   "metadata": {},
   "outputs": [],
   "source": [
    "def train(env, agent, n_episodes=100000):\n",
    "    \"\"\"\n",
    "        trains an agent through interactions with the environemnt using Q-learning.\n",
    "    \n",
    "        Args:\n",
    "            env (gym.Env): the gym environment.\n",
    "            agent (QAgent): the Q-learning agent.\n",
    "            n_episodes (int): number of training episodes.\n",
    "    \"\"\"\n",
    "\n",
    "    for i in range(n_episodes):\n",
    "\n",
    "        # TODO: implement the training loop for Q-learning\n",
    "\n",
    "        ..."
   ]
  },
  {
   "cell_type": "code",
   "execution_count": 187,
   "metadata": {},
   "outputs": [],
   "source": [
    "env = gym.make(\"FrozenLake-v1\", map_name=\"4x4\", is_slippery=False)\n",
    "agent = QAgent(num_states=16, num_actions=4, epsilon=1.0, alpha=1e-3)"
   ]
  },
  {
   "cell_type": "code",
   "execution_count": 188,
   "metadata": {},
   "outputs": [],
   "source": [
    "train(env, agent)"
   ]
  },
  {
   "cell_type": "code",
   "execution_count": 189,
   "metadata": {},
   "outputs": [],
   "source": [
    "# TODO: obtain the policy by a simple argmax on agent's Q-table\n"
   ]
  },
  {
   "cell_type": "code",
   "execution_count": 190,
   "metadata": {},
   "outputs": [
    {
     "name": "stdout",
     "output_type": "stream",
     "text": [
      "action: 1, state: 4, reward: 0.0, done: False, truncated: False, info: {'prob': 1.0}\n",
      "action: 1, state: 8, reward: 0.0, done: False, truncated: False, info: {'prob': 1.0}\n",
      "action: 2, state: 9, reward: 0.0, done: False, truncated: False, info: {'prob': 1.0}\n",
      "action: 1, state: 13, reward: 0.0, done: False, truncated: False, info: {'prob': 1.0}\n",
      "action: 2, state: 14, reward: 0.0, done: False, truncated: False, info: {'prob': 1.0}\n",
      "action: 2, state: 15, reward: 1.0, done: True, truncated: False, info: {'prob': 1.0}\n",
      "total reward: 1.0\n"
     ]
    },
    {
     "data": {
      "text/html": [
       "<video width=500 controls><source src=\"data:video/mp4;base64,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\"></video>"
      ],
      "text/plain": [
       "<IPython.core.display.HTML object>"
      ]
     },
     "execution_count": 190,
     "metadata": {},
     "output_type": "execute_result"
    }
   ],
   "source": [
    "# TODO: test the policy on the environment\n",
    "\n",
    "env = gym.make(\"FrozenLake-v1\", map_name=\"4x4\", is_slippery=False, render_mode='rgb_array')\n",
    "total_reward = record_video(env, policy, 'frozenlake_random.mp4', fps=5, random_action=False)\n",
    "print(f\"total reward: {total_reward}\")\n",
    "show_video('frozenlake_random.mp4', video_width=500)"
   ]
  }
 ],
 "metadata": {
  "kernelspec": {
   "display_name": "torch",
   "language": "python",
   "name": "python3"
  },
  "language_info": {
   "codemirror_mode": {
    "name": "ipython",
    "version": 3
   },
   "file_extension": ".py",
   "mimetype": "text/x-python",
   "name": "python",
   "nbconvert_exporter": "python",
   "pygments_lexer": "ipython3",
   "version": "3.12.1"
  }
 },
 "nbformat": 4,
 "nbformat_minor": 2
}
